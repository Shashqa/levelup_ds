{
 "cells": [
  {
   "cell_type": "code",
   "execution_count": 5,
   "id": "6f8adae9",
   "metadata": {},
   "outputs": [],
   "source": [
    "import numpy as np \n",
    "import pandas as pd\n",
    "import matplotlib.pyplot as plt\n",
    "import seaborn as sns"
   ]
  },
  {
   "cell_type": "code",
   "execution_count": 78,
   "id": "9118be83",
   "metadata": {},
   "outputs": [],
   "source": [
    "data=pd.read_csv('police_shootings.csv')"
   ]
  },
  {
   "cell_type": "code",
   "execution_count": 79,
   "id": "7779336e",
   "metadata": {
    "scrolled": true
   },
   "outputs": [
    {
     "data": {
      "text/html": [
       "<div>\n",
       "<style scoped>\n",
       "    .dataframe tbody tr th:only-of-type {\n",
       "        vertical-align: middle;\n",
       "    }\n",
       "\n",
       "    .dataframe tbody tr th {\n",
       "        vertical-align: top;\n",
       "    }\n",
       "\n",
       "    .dataframe thead th {\n",
       "        text-align: right;\n",
       "    }\n",
       "</style>\n",
       "<table border=\"1\" class=\"dataframe\">\n",
       "  <thead>\n",
       "    <tr style=\"text-align: right;\">\n",
       "      <th></th>\n",
       "      <th>id</th>\n",
       "      <th>name</th>\n",
       "      <th>date</th>\n",
       "      <th>manner_of_death</th>\n",
       "      <th>armed</th>\n",
       "      <th>age</th>\n",
       "      <th>gender</th>\n",
       "      <th>race</th>\n",
       "      <th>city</th>\n",
       "      <th>state</th>\n",
       "      <th>signs_of_mental_illness</th>\n",
       "      <th>threat_level</th>\n",
       "      <th>flee</th>\n",
       "      <th>body_camera</th>\n",
       "      <th>longitude</th>\n",
       "      <th>latitude</th>\n",
       "      <th>is_geocoding_exact</th>\n",
       "    </tr>\n",
       "  </thead>\n",
       "  <tbody>\n",
       "    <tr>\n",
       "      <th>0</th>\n",
       "      <td>1</td>\n",
       "      <td>Tim Elliot</td>\n",
       "      <td>2015-01-02</td>\n",
       "      <td>shot</td>\n",
       "      <td>gun</td>\n",
       "      <td>53.0</td>\n",
       "      <td>M</td>\n",
       "      <td>A</td>\n",
       "      <td>Shelton</td>\n",
       "      <td>WA</td>\n",
       "      <td>True</td>\n",
       "      <td>attack</td>\n",
       "      <td>Not fleeing</td>\n",
       "      <td>False</td>\n",
       "      <td>-123.122</td>\n",
       "      <td>47.247</td>\n",
       "      <td>True</td>\n",
       "    </tr>\n",
       "    <tr>\n",
       "      <th>1</th>\n",
       "      <td>2</td>\n",
       "      <td>Lewis Lee Lembke</td>\n",
       "      <td>2015-01-02</td>\n",
       "      <td>shot</td>\n",
       "      <td>gun</td>\n",
       "      <td>47.0</td>\n",
       "      <td>M</td>\n",
       "      <td>W</td>\n",
       "      <td>Aloha</td>\n",
       "      <td>OR</td>\n",
       "      <td>False</td>\n",
       "      <td>attack</td>\n",
       "      <td>Not fleeing</td>\n",
       "      <td>False</td>\n",
       "      <td>-122.892</td>\n",
       "      <td>45.487</td>\n",
       "      <td>True</td>\n",
       "    </tr>\n",
       "    <tr>\n",
       "      <th>2</th>\n",
       "      <td>3</td>\n",
       "      <td>John Paul Quintero</td>\n",
       "      <td>2015-01-03</td>\n",
       "      <td>shot and Tasered</td>\n",
       "      <td>unarmed</td>\n",
       "      <td>23.0</td>\n",
       "      <td>M</td>\n",
       "      <td>H</td>\n",
       "      <td>Wichita</td>\n",
       "      <td>KS</td>\n",
       "      <td>False</td>\n",
       "      <td>other</td>\n",
       "      <td>Not fleeing</td>\n",
       "      <td>False</td>\n",
       "      <td>-97.281</td>\n",
       "      <td>37.695</td>\n",
       "      <td>True</td>\n",
       "    </tr>\n",
       "    <tr>\n",
       "      <th>3</th>\n",
       "      <td>4</td>\n",
       "      <td>Matthew Hoffman</td>\n",
       "      <td>2015-01-04</td>\n",
       "      <td>shot</td>\n",
       "      <td>toy weapon</td>\n",
       "      <td>32.0</td>\n",
       "      <td>M</td>\n",
       "      <td>W</td>\n",
       "      <td>San Francisco</td>\n",
       "      <td>CA</td>\n",
       "      <td>True</td>\n",
       "      <td>attack</td>\n",
       "      <td>Not fleeing</td>\n",
       "      <td>False</td>\n",
       "      <td>-122.422</td>\n",
       "      <td>37.763</td>\n",
       "      <td>True</td>\n",
       "    </tr>\n",
       "    <tr>\n",
       "      <th>4</th>\n",
       "      <td>5</td>\n",
       "      <td>Michael Rodriguez</td>\n",
       "      <td>2015-01-04</td>\n",
       "      <td>shot</td>\n",
       "      <td>nail gun</td>\n",
       "      <td>39.0</td>\n",
       "      <td>M</td>\n",
       "      <td>H</td>\n",
       "      <td>Evans</td>\n",
       "      <td>CO</td>\n",
       "      <td>False</td>\n",
       "      <td>attack</td>\n",
       "      <td>Not fleeing</td>\n",
       "      <td>False</td>\n",
       "      <td>-104.692</td>\n",
       "      <td>40.384</td>\n",
       "      <td>True</td>\n",
       "    </tr>\n",
       "    <tr>\n",
       "      <th>5</th>\n",
       "      <td>6</td>\n",
       "      <td>Kenneth Joe Brown</td>\n",
       "      <td>2015-01-04</td>\n",
       "      <td>shot</td>\n",
       "      <td>gun</td>\n",
       "      <td>18.0</td>\n",
       "      <td>M</td>\n",
       "      <td>W</td>\n",
       "      <td>Guthrie</td>\n",
       "      <td>OK</td>\n",
       "      <td>False</td>\n",
       "      <td>attack</td>\n",
       "      <td>Not fleeing</td>\n",
       "      <td>False</td>\n",
       "      <td>-97.423</td>\n",
       "      <td>35.877</td>\n",
       "      <td>True</td>\n",
       "    </tr>\n",
       "    <tr>\n",
       "      <th>6</th>\n",
       "      <td>7</td>\n",
       "      <td>Kenneth Arnold Buck</td>\n",
       "      <td>2015-01-05</td>\n",
       "      <td>shot</td>\n",
       "      <td>gun</td>\n",
       "      <td>22.0</td>\n",
       "      <td>M</td>\n",
       "      <td>H</td>\n",
       "      <td>Chandler</td>\n",
       "      <td>AZ</td>\n",
       "      <td>False</td>\n",
       "      <td>attack</td>\n",
       "      <td>Car</td>\n",
       "      <td>False</td>\n",
       "      <td>-111.841</td>\n",
       "      <td>33.328</td>\n",
       "      <td>True</td>\n",
       "    </tr>\n",
       "    <tr>\n",
       "      <th>7</th>\n",
       "      <td>8</td>\n",
       "      <td>Brock Nichols</td>\n",
       "      <td>2015-01-06</td>\n",
       "      <td>shot</td>\n",
       "      <td>gun</td>\n",
       "      <td>35.0</td>\n",
       "      <td>M</td>\n",
       "      <td>W</td>\n",
       "      <td>Assaria</td>\n",
       "      <td>KS</td>\n",
       "      <td>False</td>\n",
       "      <td>attack</td>\n",
       "      <td>Not fleeing</td>\n",
       "      <td>False</td>\n",
       "      <td>-97.564</td>\n",
       "      <td>38.704</td>\n",
       "      <td>True</td>\n",
       "    </tr>\n",
       "    <tr>\n",
       "      <th>8</th>\n",
       "      <td>9</td>\n",
       "      <td>Autumn Steele</td>\n",
       "      <td>2015-01-06</td>\n",
       "      <td>shot</td>\n",
       "      <td>unarmed</td>\n",
       "      <td>34.0</td>\n",
       "      <td>F</td>\n",
       "      <td>W</td>\n",
       "      <td>Burlington</td>\n",
       "      <td>IA</td>\n",
       "      <td>False</td>\n",
       "      <td>other</td>\n",
       "      <td>Not fleeing</td>\n",
       "      <td>True</td>\n",
       "      <td>-91.119</td>\n",
       "      <td>40.809</td>\n",
       "      <td>True</td>\n",
       "    </tr>\n",
       "    <tr>\n",
       "      <th>9</th>\n",
       "      <td>10</td>\n",
       "      <td>Leslie Sapp III</td>\n",
       "      <td>2015-01-06</td>\n",
       "      <td>shot</td>\n",
       "      <td>toy weapon</td>\n",
       "      <td>47.0</td>\n",
       "      <td>M</td>\n",
       "      <td>B</td>\n",
       "      <td>Knoxville</td>\n",
       "      <td>PA</td>\n",
       "      <td>False</td>\n",
       "      <td>attack</td>\n",
       "      <td>Not fleeing</td>\n",
       "      <td>False</td>\n",
       "      <td>-79.991</td>\n",
       "      <td>40.413</td>\n",
       "      <td>True</td>\n",
       "    </tr>\n",
       "  </tbody>\n",
       "</table>\n",
       "</div>"
      ],
      "text/plain": [
       "   id                 name        date   manner_of_death       armed   age  \\\n",
       "0   1           Tim Elliot  2015-01-02              shot         gun  53.0   \n",
       "1   2     Lewis Lee Lembke  2015-01-02              shot         gun  47.0   \n",
       "2   3   John Paul Quintero  2015-01-03  shot and Tasered     unarmed  23.0   \n",
       "3   4      Matthew Hoffman  2015-01-04              shot  toy weapon  32.0   \n",
       "4   5    Michael Rodriguez  2015-01-04              shot    nail gun  39.0   \n",
       "5   6    Kenneth Joe Brown  2015-01-04              shot         gun  18.0   \n",
       "6   7  Kenneth Arnold Buck  2015-01-05              shot         gun  22.0   \n",
       "7   8        Brock Nichols  2015-01-06              shot         gun  35.0   \n",
       "8   9        Autumn Steele  2015-01-06              shot     unarmed  34.0   \n",
       "9  10      Leslie Sapp III  2015-01-06              shot  toy weapon  47.0   \n",
       "\n",
       "  gender race           city state  signs_of_mental_illness threat_level  \\\n",
       "0      M    A        Shelton    WA                     True       attack   \n",
       "1      M    W          Aloha    OR                    False       attack   \n",
       "2      M    H        Wichita    KS                    False        other   \n",
       "3      M    W  San Francisco    CA                     True       attack   \n",
       "4      M    H          Evans    CO                    False       attack   \n",
       "5      M    W        Guthrie    OK                    False       attack   \n",
       "6      M    H       Chandler    AZ                    False       attack   \n",
       "7      M    W        Assaria    KS                    False       attack   \n",
       "8      F    W     Burlington    IA                    False        other   \n",
       "9      M    B      Knoxville    PA                    False       attack   \n",
       "\n",
       "          flee  body_camera  longitude  latitude  is_geocoding_exact  \n",
       "0  Not fleeing        False   -123.122    47.247                True  \n",
       "1  Not fleeing        False   -122.892    45.487                True  \n",
       "2  Not fleeing        False    -97.281    37.695                True  \n",
       "3  Not fleeing        False   -122.422    37.763                True  \n",
       "4  Not fleeing        False   -104.692    40.384                True  \n",
       "5  Not fleeing        False    -97.423    35.877                True  \n",
       "6          Car        False   -111.841    33.328                True  \n",
       "7  Not fleeing        False    -97.564    38.704                True  \n",
       "8  Not fleeing         True    -91.119    40.809                True  \n",
       "9  Not fleeing        False    -79.991    40.413                True  "
      ]
     },
     "execution_count": 79,
     "metadata": {},
     "output_type": "execute_result"
    }
   ],
   "source": [
    "data.head(10)"
   ]
  },
  {
   "cell_type": "markdown",
   "id": "810b1b36",
   "metadata": {},
   "source": [
    "*name* - имя убитого  \n",
    "*date* - дата события  \n",
    "*manner_of_death* - причина смерти  \n",
    "*armed* - чем был вооружен убитый  \n",
    "*age* - возраст убитого  \n",
    "*gender* - пол убитого (М - Male, F - Female)  \n",
    "*race* - раса убитого (A - Asian, B - Black, W - White, H -Hispanic, N - Native American, O - Other)  \n",
    "*city* - город, в котором произошло событие \n",
    "*state* - штат, в котором произошло событие  \n",
    "*signs_of_mental_illness* - наличие у убитого признаков психического заболевания (True or False)  \n",
    "*threat_level* - уровень угрозы  \n",
    "*flee* - пытался ли одозреваемый скрыться  \n",
    "*body_camera* - наличие у полицейского камеры (True or False)  \n",
    "*longitude* - географическая долгота места происшествия  \n",
    "*latitude* - географическая широта места происшествия  \n",
    "*is_geocoding_exact* - является ли определение   местоположения точным (True or False)  "
   ]
  },
  {
   "cell_type": "markdown",
   "id": "2f72a19e",
   "metadata": {},
   "source": [
    "## Проверка нулевых значений у признаков"
   ]
  },
  {
   "cell_type": "code",
   "execution_count": 80,
   "id": "f97fbb80",
   "metadata": {
    "scrolled": true
   },
   "outputs": [
    {
     "data": {
      "text/plain": [
       "id                            0\n",
       "name                        417\n",
       "date                          0\n",
       "manner_of_death               0\n",
       "armed                       209\n",
       "age                         482\n",
       "gender                       20\n",
       "race                       1460\n",
       "city                          0\n",
       "state                         0\n",
       "signs_of_mental_illness       0\n",
       "threat_level                  0\n",
       "flee                        875\n",
       "body_camera                   0\n",
       "longitude                   837\n",
       "latitude                    837\n",
       "is_geocoding_exact            0\n",
       "dtype: int64"
      ]
     },
     "execution_count": 80,
     "metadata": {},
     "output_type": "execute_result"
    }
   ],
   "source": [
    "data.isnull().sum()"
   ]
  },
  {
   "cell_type": "code",
   "execution_count": 81,
   "id": "2a09eb74",
   "metadata": {},
   "outputs": [
    {
     "data": {
      "text/plain": [
       "7729"
      ]
     },
     "execution_count": 81,
     "metadata": {},
     "output_type": "execute_result"
    }
   ],
   "source": [
    "data.id.count()"
   ]
  },
  {
   "cell_type": "markdown",
   "id": "aa9d1c3a",
   "metadata": {},
   "source": [
    "Пустые значения чаще всего встречаюся у признака race, а также longitude, latitude и flee. Относительно небольшое количество пустых значенй есть в столбцах name, armed, age, gender. Рассмотрим подробнее данные признаки, чтобы избавиться от пустых значений в них."
   ]
  },
  {
   "cell_type": "markdown",
   "id": "a08a9c25",
   "metadata": {},
   "source": [
    "## Анализ признаков"
   ]
  },
  {
   "cell_type": "code",
   "execution_count": 29,
   "id": "60de66b4",
   "metadata": {},
   "outputs": [
    {
     "data": {
      "text/plain": [
       "<AxesSubplot:>"
      ]
     },
     "execution_count": 29,
     "metadata": {},
     "output_type": "execute_result"
    },
    {
     "data": {
      "image/png": "[encoded data removed]",
      "text/plain": [
       "<Figure size 432x288 with 1 Axes>"
      ]
     },
     "metadata": {
      "needs_background": "light"
     },
     "output_type": "display_data"
    }
   ],
   "source": [
    "data['year']=0\n",
    "for i in data:\n",
    "    data['year']=data.date.str.extract('([0-9]+)\\-')\n",
    "years = data.year.value_counts().sort_index()\n",
    "years.plot.bar(color = 'orange')"
   ]
  },
  {
   "cell_type": "markdown",
   "id": "66c4a7f3",
   "metadata": {},
   "source": [
    "Как видно из графика, с 2016 по 2021 происходило медленное увеличение количества смертей. Однако в 2022г мы видим резкий спад."
   ]
  },
  {
   "cell_type": "code",
   "execution_count": 12,
   "id": "55090979",
   "metadata": {},
   "outputs": [
    {
     "data": {
      "text/html": [
       "<div>\n",
       "<style scoped>\n",
       "    .dataframe tbody tr th:only-of-type {\n",
       "        vertical-align: middle;\n",
       "    }\n",
       "\n",
       "    .dataframe tbody tr th {\n",
       "        vertical-align: top;\n",
       "    }\n",
       "\n",
       "    .dataframe thead th {\n",
       "        text-align: right;\n",
       "    }\n",
       "</style>\n",
       "<table border=\"1\" class=\"dataframe\">\n",
       "  <thead>\n",
       "    <tr style=\"text-align: right;\">\n",
       "      <th>year</th>\n",
       "      <th>2015</th>\n",
       "      <th>2016</th>\n",
       "      <th>2017</th>\n",
       "      <th>2018</th>\n",
       "      <th>2019</th>\n",
       "      <th>2020</th>\n",
       "      <th>2021</th>\n",
       "      <th>2022</th>\n",
       "    </tr>\n",
       "    <tr>\n",
       "      <th>body_camera</th>\n",
       "      <th></th>\n",
       "      <th></th>\n",
       "      <th></th>\n",
       "      <th></th>\n",
       "      <th></th>\n",
       "      <th></th>\n",
       "      <th></th>\n",
       "      <th></th>\n",
       "    </tr>\n",
       "  </thead>\n",
       "  <tbody>\n",
       "    <tr>\n",
       "      <th>False</th>\n",
       "      <td>919</td>\n",
       "      <td>813</td>\n",
       "      <td>872</td>\n",
       "      <td>871</td>\n",
       "      <td>863</td>\n",
       "      <td>845</td>\n",
       "      <td>838</td>\n",
       "      <td>602</td>\n",
       "    </tr>\n",
       "    <tr>\n",
       "      <th>True</th>\n",
       "      <td>75</td>\n",
       "      <td>145</td>\n",
       "      <td>109</td>\n",
       "      <td>122</td>\n",
       "      <td>136</td>\n",
       "      <td>175</td>\n",
       "      <td>216</td>\n",
       "      <td>128</td>\n",
       "    </tr>\n",
       "  </tbody>\n",
       "</table>\n",
       "</div>"
      ],
      "text/plain": [
       "year         2015  2016  2017  2018  2019  2020  2021  2022\n",
       "body_camera                                                \n",
       "False         919   813   872   871   863   845   838   602\n",
       "True           75   145   109   122   136   175   216   128"
      ]
     },
     "execution_count": 12,
     "metadata": {},
     "output_type": "execute_result"
    }
   ],
   "source": [
    "pd.crosstab(data.body_camera, data.year)"
   ]
  },
  {
   "cell_type": "code",
   "execution_count": 24,
   "id": "1163cd83",
   "metadata": {},
   "outputs": [
    {
     "data": {
      "text/plain": [
       "M    7361\n",
       "F     348\n",
       "Name: gender, dtype: int64"
      ]
     },
     "execution_count": 24,
     "metadata": {},
     "output_type": "execute_result"
    }
   ],
   "source": [
    "data.gender.value_counts()"
   ]
  },
  {
   "cell_type": "code",
   "execution_count": 99,
   "id": "4bd6a922",
   "metadata": {},
   "outputs": [
    {
     "data": {
      "text/plain": [
       "<AxesSubplot:ylabel='gender'>"
      ]
     },
     "execution_count": 99,
     "metadata": {},
     "output_type": "execute_result"
    },
    {
     "data": {
      "image/png": "[encoded data removed]",
      "text/plain": [
       "<Figure size 432x288 with 1 Axes>"
      ]
     },
     "metadata": {},
     "output_type": "display_data"
    }
   ],
   "source": [
    "data.gender.value_counts().plot.pie(explode=[0,0.1],autopct='%1.1f%%')"
   ]
  },
  {
   "cell_type": "markdown",
   "id": "934471b5",
   "metadata": {},
   "source": [
    "Мужчины составляют 95,5% всех убитых, в то время как женщины всего 4,5%. Учитывая полученные данные, можем заполнить нулевые значения в столбце gender, как M."
   ]
  },
  {
   "cell_type": "code",
   "execution_count": 31,
   "id": "c5771224",
   "metadata": {},
   "outputs": [
    {
     "data": {
      "text/plain": [
       "False"
      ]
     },
     "execution_count": 31,
     "metadata": {},
     "output_type": "execute_result"
    }
   ],
   "source": [
    "data.gender.fillna('M',inplace = True)\n",
    "data.gender.isnull().any()"
   ]
  },
  {
   "cell_type": "code",
   "execution_count": null,
   "id": "d965ff74",
   "metadata": {},
   "outputs": [],
   "source": [
    "data.age.describe()"
   ]
  },
  {
   "cell_type": "markdown",
   "id": "24b63235",
   "metadata": {},
   "source": [
    "Средний возраст убитых - 37 лет. Самый старый потерпевший имел возраст 92 года, а самый маленький - 2 года. "
   ]
  },
  {
   "cell_type": "code",
   "execution_count": 32,
   "id": "c5bd850b",
   "metadata": {},
   "outputs": [
    {
     "data": {
      "text/plain": [
       "<AxesSubplot:>"
      ]
     },
     "execution_count": 32,
     "metadata": {},
     "output_type": "execute_result"
    },
    {
     "data": {
      "image/png": "[encoded data removed]",
      "text/plain": [
       "<Figure size 432x288 with 1 Axes>"
      ]
     },
     "metadata": {
      "needs_background": "light"
     },
     "output_type": "display_data"
    }
   ],
   "source": [
    "data['age_band']=0\n",
    "data.loc[data['age']<=15,'age_band']=0\n",
    "data.loc[(data['age']>15)&(data['age']<=25),'age_band']=1\n",
    "data.loc[(data['age']>25)&(data['age']<=35),'age_band']=2\n",
    "data.loc[(data['age']>35)&(data['age']<=45),'age_band']=3\n",
    "data.loc[(data['age']>45)&(data['age']<=60),'age_band']=4\n",
    "data.loc[data['age']>60,'age_band']=5\n",
    "data['age_band'].value_counts().sort_index().plot.bar(color = 'orange')"
   ]
  },
  {
   "cell_type": "markdown",
   "id": "25345ac2",
   "metadata": {},
   "source": [
    "Наибольшее количество убитых приходится на возрастную группу от 25 до 35 лет"
   ]
  },
  {
   "cell_type": "code",
   "execution_count": 90,
   "id": "f43e2844",
   "metadata": {},
   "outputs": [
    {
     "data": {
      "text/plain": [
       "<AxesSubplot:>"
      ]
     },
     "execution_count": 90,
     "metadata": {},
     "output_type": "execute_result"
    },
    {
     "data": {
      "image/png": "[encoded data removed]",
      "text/plain": [
       "<Figure size 432x288 with 1 Axes>"
      ]
     },
     "metadata": {
      "needs_background": "light"
     },
     "output_type": "display_data"
    }
   ],
   "source": [
    "data['race'].value_counts().plot.bar(color = 'orange')"
   ]
  },
  {
   "cell_type": "code",
   "execution_count": 22,
   "id": "2fef56b5",
   "metadata": {},
   "outputs": [
    {
     "data": {
      "text/plain": [
       "W    3198\n",
       "B    1686\n",
       "H    1128\n",
       "A     113\n",
       "N      97\n",
       "O      47\n",
       "Name: race, dtype: int64"
      ]
     },
     "execution_count": 22,
     "metadata": {},
     "output_type": "execute_result"
    }
   ],
   "source": [
    "data['race'].value_counts()"
   ]
  },
  {
   "cell_type": "markdown",
   "id": "dab9c657",
   "metadata": {},
   "source": [
    "Белый цвет кожи соответствует наибольшему количеству убитых - более 3198 человек, что почти вдвое больше, чем темнокожих - 1686 человек.  "
   ]
  },
  {
   "cell_type": "code",
   "execution_count": 36,
   "id": "2ee195a9",
   "metadata": {},
   "outputs": [
    {
     "data": {
      "text/plain": [
       "Los Angeles    128\n",
       "Phoenix        101\n",
       "Houston         87\n",
       "San Antonio     66\n",
       "Las Vegas       63\n",
       "Albuquerque     54\n",
       "Chicago         49\n",
       "Columbus        48\n",
       "Denver          46\n",
       "Tucson          44\n",
       "Name: city, dtype: int64"
      ]
     },
     "execution_count": 36,
     "metadata": {},
     "output_type": "execute_result"
    }
   ],
   "source": [
    "data.city.value_counts().head(10)"
   ]
  },
  {
   "cell_type": "code",
   "execution_count": 56,
   "id": "54868bc9",
   "metadata": {},
   "outputs": [
    {
     "data": {
      "text/plain": [
       "CA    1114\n",
       "TX     694\n",
       "FL     494\n",
       "AZ     351\n",
       "GA     291\n",
       "CO     279\n",
       "OH     222\n",
       "NC     221\n",
       "WA     212\n",
       "OK     211\n",
       "Name: state, dtype: int64"
      ]
     },
     "execution_count": 56,
     "metadata": {},
     "output_type": "execute_result"
    }
   ],
   "source": [
    "danger_state = data.state.value_counts()\n",
    "danger_state.head(10)"
   ]
  },
  {
   "cell_type": "markdown",
   "id": "f5cf8bee",
   "metadata": {},
   "source": [
    "Самым опасным из городов является Лос Анджелес (Калифорния), далее идут Финикс (Аризона) и Хьюстон (Техас). \n",
    "Самыми опасными штатами являются Калифорния и Техас."
   ]
  },
  {
   "cell_type": "code",
   "execution_count": 61,
   "id": "5332b928",
   "metadata": {},
   "outputs": [
    {
     "data": {
      "text/plain": [
       "False    6089\n",
       "True     1640\n",
       "Name: signs_of_mental_illness, dtype: int64"
      ]
     },
     "execution_count": 61,
     "metadata": {},
     "output_type": "execute_result"
    }
   ],
   "source": [
    "data.signs_of_mental_illness.value_counts()"
   ]
  },
  {
   "cell_type": "code",
   "execution_count": 71,
   "id": "ac07fc12",
   "metadata": {},
   "outputs": [
    {
     "data": {
      "text/plain": [
       "<AxesSubplot:>"
      ]
     },
     "execution_count": 71,
     "metadata": {},
     "output_type": "execute_result"
    },
    {
     "data": {
      "image/png": "[encoded data removed]",
      "text/plain": [
       "<Figure size 432x288 with 1 Axes>"
      ]
     },
     "metadata": {
      "needs_background": "light"
     },
     "output_type": "display_data"
    }
   ],
   "source": [
    "data[data.signs_of_mental_illness == True].race.value_counts().plot.bar(color = 'orange')"
   ]
  },
  {
   "cell_type": "markdown",
   "id": "1e1a6e1a",
   "metadata": {},
   "source": [
    "## Корреляция признаков"
   ]
  },
  {
   "cell_type": "code",
   "execution_count": 103,
   "id": "ff31614b",
   "metadata": {},
   "outputs": [
    {
     "data": {
      "image/png": "[encoded data removed]",
      "text/plain": [
       "<Figure size 720x576 with 2 Axes>"
      ]
     },
     "metadata": {
      "needs_background": "light"
     },
     "output_type": "display_data"
    }
   ],
   "source": [
    "data.drop(['age'],axis = 1, inplace = True)\n",
    "sns.heatmap(data.corr(),annot=True,cmap='RdYlGn',linewidths=0.2) \n",
    "fig=plt.gcf()\n",
    "fig.set_size_inches(10,8)\n",
    "plt.show()"
   ]
  },
  {
   "cell_type": "code",
   "execution_count": null,
   "id": "750e9198",
   "metadata": {},
   "outputs": [],
   "source": []
  }
 ],
 "metadata": {
  "kernelspec": {
   "display_name": "Python 3 (ipykernel)",
   "language": "python",
   "name": "python3"
  },
  "language_info": {
   "codemirror_mode": {
    "name": "ipython",
    "version": 3
   },
   "file_extension": ".py",
   "mimetype": "text/x-python",
   "name": "python",
   "nbconvert_exporter": "python",
   "pygments_lexer": "ipython3",
   "version": "3.9.12"
  }
 },
 "nbformat": 4,
 "nbformat_minor": 5
}
